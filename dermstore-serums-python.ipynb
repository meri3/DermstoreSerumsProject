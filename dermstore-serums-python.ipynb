{
 "cells": [
  {
   "cell_type": "code",
   "execution_count": 7,
   "metadata": {},
   "outputs": [],
   "source": [
    "import pandas as pd     \n",
    "import numpy as np\n",
    "import matplotlib.pyplot as plt\n",
    "import seaborn as sns"
   ]
  },
  {
   "cell_type": "code",
   "execution_count": 10,
   "metadata": {},
   "outputs": [],
   "source": [
    "df = pd.read_excel('DermstoreSerumsRawData.xlsx', sheet_name = \"CleanData\")\n"
   ]
  },
  {
   "cell_type": "code",
   "execution_count": 11,
   "metadata": {},
   "outputs": [],
   "source": [
    "df_csv = df.to_csv('DermstoreSerumsRawData.xlsx', index=False)"
   ]
  },
  {
   "cell_type": "code",
   "execution_count": 18,
   "metadata": {},
   "outputs": [
    {
     "data": {
      "text/html": [
       "<div>\n",
       "<style scoped>\n",
       "    .dataframe tbody tr th:only-of-type {\n",
       "        vertical-align: middle;\n",
       "    }\n",
       "\n",
       "    .dataframe tbody tr th {\n",
       "        vertical-align: top;\n",
       "    }\n",
       "\n",
       "    .dataframe thead th {\n",
       "        text-align: right;\n",
       "    }\n",
       "</style>\n",
       "<table border=\"1\" class=\"dataframe\">\n",
       "  <thead>\n",
       "    <tr style=\"text-align: right;\">\n",
       "      <th></th>\n",
       "      <th>Brand</th>\n",
       "      <th>ProductName</th>\n",
       "      <th>Size(ml)</th>\n",
       "      <th>PriceInDollars</th>\n",
       "      <th>Rating</th>\n",
       "      <th>ApplicationArea</th>\n",
       "      <th>SkinType</th>\n",
       "      <th>IdealForConcerns</th>\n",
       "      <th>Preferences</th>\n",
       "      <th>MainIngredients</th>\n",
       "      <th>AllIngredients</th>\n",
       "      <th>HowToUse</th>\n",
       "    </tr>\n",
       "  </thead>\n",
       "  <tbody>\n",
       "    <tr>\n",
       "      <th>0</th>\n",
       "      <td>AlliesOfSkin</td>\n",
       "      <td>Allies of Skin 35% Vitamin C Perfecting Serum</td>\n",
       "      <td>30</td>\n",
       "      <td>118.00</td>\n",
       "      <td>4.35</td>\n",
       "      <td>Face</td>\n",
       "      <td>Acne-Prone Skin, Combination Skin, Dry Skin, M...</td>\n",
       "      <td>Acne, Aging Skin, Free Radical Damage, Hyperpi...</td>\n",
       "      <td>Certified Cruelty-Free, Clean, Fragrance-Free,...</td>\n",
       "      <td>Antioxidants, Vitamin C</td>\n",
       "      <td>Ethoxydiglycol, 3-O-Ethyl Ascorbic Acid, Tetra...</td>\n",
       "      <td>After cleansing and toning, apply all over fac...</td>\n",
       "    </tr>\n",
       "    <tr>\n",
       "      <th>1</th>\n",
       "      <td>Avene</td>\n",
       "      <td>Avene Hydrance Intense Rehydrating Serum</td>\n",
       "      <td>30</td>\n",
       "      <td>38.00</td>\n",
       "      <td>4.31</td>\n",
       "      <td>Face, Neck</td>\n",
       "      <td>Acne-Prone Skin, Combination Skin, Dry Skin, M...</td>\n",
       "      <td>Aging Skin, Dryness and Dehydration</td>\n",
       "      <td>Clean, Dermatologist Approved, Hypoallergenic,...</td>\n",
       "      <td>NaN</td>\n",
       "      <td>Avène Thermal Spring Water (Avène Aqua), Capry...</td>\n",
       "      <td>Apply morning and/or evening to the face, neck...</td>\n",
       "    </tr>\n",
       "    <tr>\n",
       "      <th>2</th>\n",
       "      <td>BeautyStat</td>\n",
       "      <td>BeautyStat Universal C Skin Refiner</td>\n",
       "      <td>30</td>\n",
       "      <td>80.00</td>\n",
       "      <td>4.33</td>\n",
       "      <td>Face</td>\n",
       "      <td>Acne-Prone Skin, Combination Skin, Dry Skin, M...</td>\n",
       "      <td>Dryness and Dehydration, Hyperpigmentation, La...</td>\n",
       "      <td>Fragrance-Free, Gluten-Free, Phthalate-Free, V...</td>\n",
       "      <td>Green Tea, Squalane Oil, Vitamin C</td>\n",
       "      <td>Cyclopentasiloxane, L-Ascorbic Acid (Pure Vita...</td>\n",
       "      <td>Smooth over cleansed, dry skin, AM and PM. For...</td>\n",
       "    </tr>\n",
       "    <tr>\n",
       "      <th>3</th>\n",
       "      <td>Bioderma</td>\n",
       "      <td>Bioderma Hydrabio Serum</td>\n",
       "      <td>40</td>\n",
       "      <td>27.99</td>\n",
       "      <td>4.47</td>\n",
       "      <td>Cheeks, Decollete, Face, Neck</td>\n",
       "      <td>Dry Skin, Sensitive Skin</td>\n",
       "      <td>Dryness and Dehydration</td>\n",
       "      <td>Clean, Hypoallergenic</td>\n",
       "      <td>Niacinamide</td>\n",
       "      <td>Water, glycerin, xylitol, sodium polyacrylate,...</td>\n",
       "      <td>Apply onto the face and neck in the morning an...</td>\n",
       "    </tr>\n",
       "    <tr>\n",
       "      <th>4</th>\n",
       "      <td>ByTerry</td>\n",
       "      <td>By Terry Brightening CC Serum</td>\n",
       "      <td>30</td>\n",
       "      <td>91.00</td>\n",
       "      <td>4.76</td>\n",
       "      <td>Face</td>\n",
       "      <td>NaN</td>\n",
       "      <td>Dryness and Dehydration, Redness</td>\n",
       "      <td>NaN</td>\n",
       "      <td>NaN</td>\n",
       "      <td>Aqua / Water, Glycereth-7, Bis-Peg-18 Methyl E...</td>\n",
       "      <td>Apply as a primer on bare skin. Wear alone or ...</td>\n",
       "    </tr>\n",
       "  </tbody>\n",
       "</table>\n",
       "</div>"
      ],
      "text/plain": [
       "          Brand                                    ProductName  Size(ml)  \\\n",
       "0  AlliesOfSkin  Allies of Skin 35% Vitamin C Perfecting Serum        30   \n",
       "1         Avene       Avene Hydrance Intense Rehydrating Serum        30   \n",
       "2    BeautyStat            BeautyStat Universal C Skin Refiner        30   \n",
       "3      Bioderma                        Bioderma Hydrabio Serum        40   \n",
       "4       ByTerry                  By Terry Brightening CC Serum        30   \n",
       "\n",
       "   PriceInDollars  Rating                ApplicationArea  \\\n",
       "0          118.00    4.35                           Face   \n",
       "1           38.00    4.31                     Face, Neck   \n",
       "2           80.00    4.33                           Face   \n",
       "3           27.99    4.47  Cheeks, Decollete, Face, Neck   \n",
       "4           91.00    4.76                           Face   \n",
       "\n",
       "                                            SkinType  \\\n",
       "0  Acne-Prone Skin, Combination Skin, Dry Skin, M...   \n",
       "1  Acne-Prone Skin, Combination Skin, Dry Skin, M...   \n",
       "2  Acne-Prone Skin, Combination Skin, Dry Skin, M...   \n",
       "3                           Dry Skin, Sensitive Skin   \n",
       "4                                                NaN   \n",
       "\n",
       "                                    IdealForConcerns  \\\n",
       "0  Acne, Aging Skin, Free Radical Damage, Hyperpi...   \n",
       "1                Aging Skin, Dryness and Dehydration   \n",
       "2  Dryness and Dehydration, Hyperpigmentation, La...   \n",
       "3                            Dryness and Dehydration   \n",
       "4                   Dryness and Dehydration, Redness   \n",
       "\n",
       "                                         Preferences  \\\n",
       "0  Certified Cruelty-Free, Clean, Fragrance-Free,...   \n",
       "1  Clean, Dermatologist Approved, Hypoallergenic,...   \n",
       "2  Fragrance-Free, Gluten-Free, Phthalate-Free, V...   \n",
       "3                              Clean, Hypoallergenic   \n",
       "4                                                NaN   \n",
       "\n",
       "                      MainIngredients  \\\n",
       "0             Antioxidants, Vitamin C   \n",
       "1                                 NaN   \n",
       "2  Green Tea, Squalane Oil, Vitamin C   \n",
       "3                         Niacinamide   \n",
       "4                                 NaN   \n",
       "\n",
       "                                      AllIngredients  \\\n",
       "0  Ethoxydiglycol, 3-O-Ethyl Ascorbic Acid, Tetra...   \n",
       "1  Avène Thermal Spring Water (Avène Aqua), Capry...   \n",
       "2  Cyclopentasiloxane, L-Ascorbic Acid (Pure Vita...   \n",
       "3  Water, glycerin, xylitol, sodium polyacrylate,...   \n",
       "4  Aqua / Water, Glycereth-7, Bis-Peg-18 Methyl E...   \n",
       "\n",
       "                                            HowToUse  \n",
       "0  After cleansing and toning, apply all over fac...  \n",
       "1  Apply morning and/or evening to the face, neck...  \n",
       "2  Smooth over cleansed, dry skin, AM and PM. For...  \n",
       "3  Apply onto the face and neck in the morning an...  \n",
       "4  Apply as a primer on bare skin. Wear alone or ...  "
      ]
     },
     "execution_count": 18,
     "metadata": {},
     "output_type": "execute_result"
    }
   ],
   "source": [
    "df_csv = pd.read_csv('DermstoreSerumsRawData.xlsx')\n",
    "df_csv.head()"
   ]
  },
  {
   "cell_type": "code",
   "execution_count": 19,
   "metadata": {},
   "outputs": [
    {
     "data": {
      "text/plain": [
       "Index(['Brand', 'ProductName', 'Size(ml)', 'PriceInDollars', 'Rating',\n",
       "       'ApplicationArea', 'SkinType', 'IdealForConcerns', 'Preferences',\n",
       "       'MainIngredients', 'AllIngredients', 'HowToUse'],\n",
       "      dtype='object')"
      ]
     },
     "execution_count": 19,
     "metadata": {},
     "output_type": "execute_result"
    }
   ],
   "source": [
    "df_csv.columns"
   ]
  },
  {
   "cell_type": "code",
   "execution_count": 31,
   "metadata": {},
   "outputs": [],
   "source": [
    "df_csv = df_csv.rename(columns={'Size(ml)':'Size'})"
   ]
  },
  {
   "cell_type": "code",
   "execution_count": 32,
   "metadata": {},
   "outputs": [
    {
     "data": {
      "text/plain": [
       "Index(['Brand', 'ProductName', 'Size', 'PriceInDollars', 'Rating',\n",
       "       'ApplicationArea', 'SkinType', 'IdealForConcerns', 'Preferences',\n",
       "       'MainIngredients', 'AllIngredients', 'HowToUse'],\n",
       "      dtype='object')"
      ]
     },
     "execution_count": 32,
     "metadata": {},
     "output_type": "execute_result"
    }
   ],
   "source": [
    "df_csv.columns"
   ]
  },
  {
   "cell_type": "code",
   "execution_count": 36,
   "metadata": {},
   "outputs": [
    {
     "data": {
      "text/plain": [
       "30    37\n",
       "50     3\n",
       "40     1\n",
       "20     1\n",
       "35     1\n",
       "Name: Size, dtype: int64"
      ]
     },
     "execution_count": 36,
     "metadata": {},
     "output_type": "execute_result"
    }
   ],
   "source": [
    "df_csv['Size'].value_counts()"
   ]
  },
  {
   "cell_type": "code",
   "execution_count": 37,
   "metadata": {},
   "outputs": [
    {
     "data": {
      "text/plain": [
       "Face                             22\n",
       "Decollete, Face, Neck            13\n",
       "Face, Neck                        4\n",
       "Cheeks, Decollete, Face, Neck     1\n",
       "Decollete, Face, Hands, Neck      1\n",
       "Decollete, Face                   1\n",
       "Name: ApplicationArea, dtype: int64"
      ]
     },
     "execution_count": 37,
     "metadata": {},
     "output_type": "execute_result"
    }
   ],
   "source": [
    "df_csv['ApplicationArea'].value_counts()"
   ]
  },
  {
   "cell_type": "code",
   "execution_count": 40,
   "metadata": {},
   "outputs": [
    {
     "data": {
      "text/plain": [
       "Acne-Prone Skin, Combination Skin, Dry Skin, Mature Skin, Normal Skin, Oily Skin, Sensitive Skin    28\n",
       "Combination Skin, Dry Skin, Mature Skin, Normal Skin, Oily Skin                                      2\n",
       "Dry Skin, Sensitive Skin                                                                             1\n",
       "Acne-Prone Skin, Combination Skin, Mature Skin, Oily Skin                                            1\n",
       "Combination Skin, Dry Skin, Normal Skin, Oily Skin                                                   1\n",
       "Dry Skin, Mature Skin                                                                                1\n",
       "Sensitive Skin                                                                                       1\n",
       "Combination Skin, Dry Skin, Mature Skin, Normal Skin, Sensitive Skin                                 1\n",
       "Mature Skin, Normal Skin                                                                             1\n",
       "Mature Skin, Normal Skin, Sensitive Skin                                                             1\n",
       "Combination Skin, Normal Skin, Oily Skin                                                             1\n",
       "Name: SkinType, dtype: int64"
      ]
     },
     "execution_count": 40,
     "metadata": {},
     "output_type": "execute_result"
    }
   ],
   "source": [
    "df_csv['SkinType'].value_counts()"
   ]
  },
  {
   "cell_type": "code",
   "execution_count": 47,
   "metadata": {},
   "outputs": [
    {
     "data": {
      "text/plain": [
       "Brand                object\n",
       "ProductName          object\n",
       "Size                  int64\n",
       "PriceInDollars      float64\n",
       "Rating              float64\n",
       "ApplicationArea      object\n",
       "SkinType             object\n",
       "IdealForConcerns     object\n",
       "Preferences          object\n",
       "MainIngredients      object\n",
       "AllIngredients       object\n",
       "HowToUse             object\n",
       "dtype: object"
      ]
     },
     "execution_count": 47,
     "metadata": {},
     "output_type": "execute_result"
    }
   ],
   "source": [
    "df_csv.dtypes"
   ]
  },
  {
   "cell_type": "code",
   "execution_count": null,
   "metadata": {},
   "outputs": [],
   "source": []
  }
 ],
 "metadata": {
  "interpreter": {
   "hash": "ccc9a48c231be0f4608fe5678610cf85a840a56231b9c2ebc7f540627db85596"
  },
  "kernelspec": {
   "display_name": "Python 3.10.0 ('minimal_ds')",
   "language": "python",
   "name": "python3"
  },
  "language_info": {
   "codemirror_mode": {
    "name": "ipython",
    "version": 3
   },
   "file_extension": ".py",
   "mimetype": "text/x-python",
   "name": "python",
   "nbconvert_exporter": "python",
   "pygments_lexer": "ipython3",
   "version": "3.10.0"
  },
  "orig_nbformat": 4
 },
 "nbformat": 4,
 "nbformat_minor": 2
}
